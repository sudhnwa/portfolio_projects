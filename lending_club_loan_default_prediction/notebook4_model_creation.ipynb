{
 "cells": [
  {
   "cell_type": "code",
   "execution_count": 1,
   "metadata": {},
   "outputs": [],
   "source": [
    "import pandas as pd\n",
    "import numpy as np\n",
    "import seaborn as sns\n",
    "from sklearn.metrics import classification_report, confusion_matrix\n",
    "import matplotlib.pyplot as plt\n",
    "from tensorflow.keras.models import load_model\n",
    "\n",
    "%matplotlib inline"
   ]
  },
  {
   "cell_type": "code",
   "execution_count": 2,
   "metadata": {},
   "outputs": [],
   "source": [
    "x_train = pd.read_csv('x_train.csv')\n",
    "x_test = pd.read_csv('x_test.csv')\n",
    "y_train = pd.read_csv('y_train.csv')\n",
    "y_test = pd.read_csv('y_test.csv')"
   ]
  },
  {
   "cell_type": "code",
   "execution_count": 3,
   "metadata": {},
   "outputs": [
    {
     "name": "stdout",
     "output_type": "stream",
     "text": [
      "(357148, 65)\n",
      "(357148, 1)\n",
      "(153064, 65)\n",
      "(153064, 1)\n"
     ]
    }
   ],
   "source": [
    "print(x_train.shape)\n",
    "print(y_train.shape)\n",
    "print(x_test.shape)\n",
    "print(y_test.shape)"
   ]
  },
  {
   "cell_type": "markdown",
   "metadata": {},
   "source": [
    "#### Feature scaling\n",
    "Fitting on only training data to avoid data leakage."
   ]
  },
  {
   "cell_type": "code",
   "execution_count": 4,
   "metadata": {},
   "outputs": [],
   "source": [
    "from sklearn.preprocessing import MinMaxScaler\n",
    "scaler = MinMaxScaler()\n",
    "\n",
    "scaler.fit(x_train, y_train)\n",
    "\n",
    "x_train = scaler.transform(x_train)\n",
    "x_test = scaler.transform(x_test)"
   ]
  },
  {
   "cell_type": "markdown",
   "metadata": {},
   "source": [
    "____"
   ]
  },
  {
   "cell_type": "markdown",
   "metadata": {},
   "source": [
    "### Model creation\n",
    "#### ANN"
   ]
  },
  {
   "cell_type": "code",
   "execution_count": 5,
   "metadata": {},
   "outputs": [],
   "source": [
    "from tensorflow.keras.models import Sequential\n",
    "from tensorflow.keras.layers import Dense\n",
    "from tensorflow.keras.layers import Dropout"
   ]
  },
  {
   "cell_type": "code",
   "execution_count": 6,
   "metadata": {},
   "outputs": [],
   "source": [
    "model = Sequential()\n",
    "\n",
    "model.add(Dense(65, activation='relu'))\n",
    "model.add(Dropout(0.4))\n",
    "model.add(Dense(30, activation='relu'))\n",
    "model.add(Dropout(0.3))\n",
    "model.add(Dense(15, activation='relu'))\n",
    "model.add(Dropout(0.2))\n",
    "model.add(Dense(1, activation='sigmoid'))\n",
    "\n",
    "model.compile(loss='binary_crossentropy', optimizer='adam')"
   ]
  },
  {
   "cell_type": "code",
   "execution_count": 7,
   "metadata": {},
   "outputs": [],
   "source": [
    "from tensorflow.keras.callbacks import EarlyStopping\n",
    "\n",
    "early_stop = EarlyStopping(monitor='val_loss', mode='min', verbose=1, patience=7)"
   ]
  },
  {
   "cell_type": "code",
   "execution_count": 8,
   "metadata": {},
   "outputs": [
    {
     "name": "stdout",
     "output_type": "stream",
     "text": [
      "Epoch 1/100\n",
      "\u001b[1m11161/11161\u001b[0m \u001b[32m━━━━━━━━━━━━━━━━━━━━\u001b[0m\u001b[37m\u001b[0m \u001b[1m24s\u001b[0m 2ms/step - loss: 0.6490 - val_loss: 0.6282\n",
      "Epoch 2/100\n",
      "\u001b[1m11161/11161\u001b[0m \u001b[32m━━━━━━━━━━━━━━━━━━━━\u001b[0m\u001b[37m\u001b[0m \u001b[1m27s\u001b[0m 2ms/step - loss: 0.6335 - val_loss: 0.6256\n",
      "Epoch 3/100\n",
      "\u001b[1m11161/11161\u001b[0m \u001b[32m━━━━━━━━━━━━━━━━━━━━\u001b[0m\u001b[37m\u001b[0m \u001b[1m16s\u001b[0m 1ms/step - loss: 0.6318 - val_loss: 0.6258\n",
      "Epoch 4/100\n",
      "\u001b[1m11161/11161\u001b[0m \u001b[32m━━━━━━━━━━━━━━━━━━━━\u001b[0m\u001b[37m\u001b[0m \u001b[1m14s\u001b[0m 1ms/step - loss: 0.6310 - val_loss: 0.6250\n",
      "Epoch 5/100\n",
      "\u001b[1m11161/11161\u001b[0m \u001b[32m━━━━━━━━━━━━━━━━━━━━\u001b[0m\u001b[37m\u001b[0m \u001b[1m14s\u001b[0m 1ms/step - loss: 0.6302 - val_loss: 0.6249\n",
      "Epoch 6/100\n",
      "\u001b[1m11161/11161\u001b[0m \u001b[32m━━━━━━━━━━━━━━━━━━━━\u001b[0m\u001b[37m\u001b[0m \u001b[1m15s\u001b[0m 1ms/step - loss: 0.6302 - val_loss: 0.6246\n",
      "Epoch 7/100\n",
      "\u001b[1m11161/11161\u001b[0m \u001b[32m━━━━━━━━━━━━━━━━━━━━\u001b[0m\u001b[37m\u001b[0m \u001b[1m16s\u001b[0m 1ms/step - loss: 0.6296 - val_loss: 0.6229\n",
      "Epoch 8/100\n",
      "\u001b[1m11161/11161\u001b[0m \u001b[32m━━━━━━━━━━━━━━━━━━━━\u001b[0m\u001b[37m\u001b[0m \u001b[1m16s\u001b[0m 1ms/step - loss: 0.6292 - val_loss: 0.6236\n",
      "Epoch 9/100\n",
      "\u001b[1m11161/11161\u001b[0m \u001b[32m━━━━━━━━━━━━━━━━━━━━\u001b[0m\u001b[37m\u001b[0m \u001b[1m16s\u001b[0m 1ms/step - loss: 0.6285 - val_loss: 0.6256\n",
      "Epoch 10/100\n",
      "\u001b[1m11161/11161\u001b[0m \u001b[32m━━━━━━━━━━━━━━━━━━━━\u001b[0m\u001b[37m\u001b[0m \u001b[1m21s\u001b[0m 2ms/step - loss: 0.6293 - val_loss: 0.6243\n",
      "Epoch 11/100\n",
      "\u001b[1m11161/11161\u001b[0m \u001b[32m━━━━━━━━━━━━━━━━━━━━\u001b[0m\u001b[37m\u001b[0m \u001b[1m32s\u001b[0m 3ms/step - loss: 0.6290 - val_loss: 0.6229\n",
      "Epoch 12/100\n",
      "\u001b[1m11161/11161\u001b[0m \u001b[32m━━━━━━━━━━━━━━━━━━━━\u001b[0m\u001b[37m\u001b[0m \u001b[1m34s\u001b[0m 3ms/step - loss: 0.6292 - val_loss: 0.6230\n",
      "Epoch 13/100\n",
      "\u001b[1m11161/11161\u001b[0m \u001b[32m━━━━━━━━━━━━━━━━━━━━\u001b[0m\u001b[37m\u001b[0m \u001b[1m36s\u001b[0m 3ms/step - loss: 0.6297 - val_loss: 0.6237\n",
      "Epoch 14/100\n",
      "\u001b[1m11161/11161\u001b[0m \u001b[32m━━━━━━━━━━━━━━━━━━━━\u001b[0m\u001b[37m\u001b[0m \u001b[1m18s\u001b[0m 2ms/step - loss: 0.6281 - val_loss: 0.6224\n",
      "Epoch 15/100\n",
      "\u001b[1m11161/11161\u001b[0m \u001b[32m━━━━━━━━━━━━━━━━━━━━\u001b[0m\u001b[37m\u001b[0m \u001b[1m13s\u001b[0m 1ms/step - loss: 0.6283 - val_loss: 0.6226\n",
      "Epoch 16/100\n",
      "\u001b[1m11161/11161\u001b[0m \u001b[32m━━━━━━━━━━━━━━━━━━━━\u001b[0m\u001b[37m\u001b[0m \u001b[1m13s\u001b[0m 1ms/step - loss: 0.6286 - val_loss: 0.6249\n",
      "Epoch 17/100\n",
      "\u001b[1m11161/11161\u001b[0m \u001b[32m━━━━━━━━━━━━━━━━━━━━\u001b[0m\u001b[37m\u001b[0m \u001b[1m13s\u001b[0m 1ms/step - loss: 0.6278 - val_loss: 0.6229\n",
      "Epoch 18/100\n",
      "\u001b[1m11161/11161\u001b[0m \u001b[32m━━━━━━━━━━━━━━━━━━━━\u001b[0m\u001b[37m\u001b[0m \u001b[1m13s\u001b[0m 1ms/step - loss: 0.6286 - val_loss: 0.6223\n",
      "Epoch 19/100\n",
      "\u001b[1m11161/11161\u001b[0m \u001b[32m━━━━━━━━━━━━━━━━━━━━\u001b[0m\u001b[37m\u001b[0m \u001b[1m12s\u001b[0m 1ms/step - loss: 0.6297 - val_loss: 0.6235\n",
      "Epoch 20/100\n",
      "\u001b[1m11161/11161\u001b[0m \u001b[32m━━━━━━━━━━━━━━━━━━━━\u001b[0m\u001b[37m\u001b[0m \u001b[1m12s\u001b[0m 1ms/step - loss: 0.6289 - val_loss: 0.6227\n",
      "Epoch 21/100\n",
      "\u001b[1m11161/11161\u001b[0m \u001b[32m━━━━━━━━━━━━━━━━━━━━\u001b[0m\u001b[37m\u001b[0m \u001b[1m13s\u001b[0m 1ms/step - loss: 0.6280 - val_loss: 0.6220\n",
      "Epoch 22/100\n",
      "\u001b[1m11161/11161\u001b[0m \u001b[32m━━━━━━━━━━━━━━━━━━━━\u001b[0m\u001b[37m\u001b[0m \u001b[1m13s\u001b[0m 1ms/step - loss: 0.6279 - val_loss: 0.6241\n",
      "Epoch 23/100\n",
      "\u001b[1m11161/11161\u001b[0m \u001b[32m━━━━━━━━━━━━━━━━━━━━\u001b[0m\u001b[37m\u001b[0m \u001b[1m13s\u001b[0m 1ms/step - loss: 0.6275 - val_loss: 0.6219\n",
      "Epoch 24/100\n",
      "\u001b[1m11161/11161\u001b[0m \u001b[32m━━━━━━━━━━━━━━━━━━━━\u001b[0m\u001b[37m\u001b[0m \u001b[1m13s\u001b[0m 1ms/step - loss: 0.6279 - val_loss: 0.6234\n",
      "Epoch 25/100\n",
      "\u001b[1m11161/11161\u001b[0m \u001b[32m━━━━━━━━━━━━━━━━━━━━\u001b[0m\u001b[37m\u001b[0m \u001b[1m13s\u001b[0m 1ms/step - loss: 0.6274 - val_loss: 0.6225\n",
      "Epoch 26/100\n",
      "\u001b[1m11161/11161\u001b[0m \u001b[32m━━━━━━━━━━━━━━━━━━━━\u001b[0m\u001b[37m\u001b[0m \u001b[1m13s\u001b[0m 1ms/step - loss: 0.6264 - val_loss: 0.6239\n",
      "Epoch 27/100\n",
      "\u001b[1m11161/11161\u001b[0m \u001b[32m━━━━━━━━━━━━━━━━━━━━\u001b[0m\u001b[37m\u001b[0m \u001b[1m14s\u001b[0m 1ms/step - loss: 0.6274 - val_loss: 0.6239\n",
      "Epoch 28/100\n",
      "\u001b[1m11161/11161\u001b[0m \u001b[32m━━━━━━━━━━━━━━━━━━━━\u001b[0m\u001b[37m\u001b[0m \u001b[1m15s\u001b[0m 1ms/step - loss: 0.6272 - val_loss: 0.6242\n",
      "Epoch 29/100\n",
      "\u001b[1m11161/11161\u001b[0m \u001b[32m━━━━━━━━━━━━━━━━━━━━\u001b[0m\u001b[37m\u001b[0m \u001b[1m13s\u001b[0m 1ms/step - loss: 0.6273 - val_loss: 0.6223\n",
      "Epoch 30/100\n",
      "\u001b[1m11161/11161\u001b[0m \u001b[32m━━━━━━━━━━━━━━━━━━━━\u001b[0m\u001b[37m\u001b[0m \u001b[1m13s\u001b[0m 1ms/step - loss: 0.6272 - val_loss: 0.6226\n",
      "Epoch 30: early stopping\n"
     ]
    },
    {
     "data": {
      "text/plain": [
       "<keras.src.callbacks.history.History at 0x224acba8ce0>"
      ]
     },
     "execution_count": 8,
     "metadata": {},
     "output_type": "execute_result"
    }
   ],
   "source": [
    "model.fit(x_train, y_train, epochs=100, validation_data=(x_test, y_test), callbacks=[early_stop])"
   ]
  },
  {
   "cell_type": "code",
   "execution_count": 9,
   "metadata": {},
   "outputs": [
    {
     "data": {
      "text/plain": [
       "<Axes: >"
      ]
     },
     "execution_count": 9,
     "metadata": {},
     "output_type": "execute_result"
    },
    {
     "data": {
      "image/png": "[encoded data removed]",
      "text/plain": [
       "<Figure size 640x480 with 1 Axes>"
      ]
     },
     "metadata": {},
     "output_type": "display_data"
    }
   ],
   "source": [
    "pd.DataFrame(model.history.history).plot()"
   ]
  },
  {
   "cell_type": "code",
   "execution_count": 10,
   "metadata": {},
   "outputs": [
    {
     "name": "stdout",
     "output_type": "stream",
     "text": [
      "\u001b[1m4784/4784\u001b[0m \u001b[32m━━━━━━━━━━━━━━━━━━━━\u001b[0m\u001b[37m\u001b[0m \u001b[1m3s\u001b[0m 586us/step\n"
     ]
    }
   ],
   "source": [
    "pred = model.predict(x_test)"
   ]
  },
  {
   "cell_type": "code",
   "execution_count": 11,
   "metadata": {},
   "outputs": [
    {
     "data": {
      "text/plain": [
       "<seaborn.axisgrid.FacetGrid at 0x224aca770e0>"
      ]
     },
     "execution_count": 11,
     "metadata": {},
     "output_type": "execute_result"
    },
    {
     "data": {
      "image/png": "[encoded data removed]",
      "text/plain": [
       "<Figure size 558.875x500 with 1 Axes>"
      ]
     },
     "metadata": {},
     "output_type": "display_data"
    }
   ],
   "source": [
    "sns.displot(pred)"
   ]
  },
  {
   "cell_type": "code",
   "execution_count": 12,
   "metadata": {},
   "outputs": [
    {
     "name": "stdout",
     "output_type": "stream",
     "text": [
      "[[54625 22055]\n",
      " [31223 45161]]\n",
      "              precision    recall  f1-score   support\n",
      "\n",
      "           0       0.64      0.71      0.67     76680\n",
      "           1       0.67      0.59      0.63     76384\n",
      "\n",
      "    accuracy                           0.65    153064\n",
      "   macro avg       0.65      0.65      0.65    153064\n",
      "weighted avg       0.65      0.65      0.65    153064\n",
      "\n"
     ]
    }
   ],
   "source": [
    "class_pred = np.where(pred > 0.5, 1, 0)\n",
    "print(confusion_matrix(y_test, class_pred))\n",
    "print(classification_report(y_test, class_pred))"
   ]
  },
  {
   "cell_type": "markdown",
   "metadata": {},
   "source": [
    "#### LogisticRegression"
   ]
  },
  {
   "cell_type": "code",
   "execution_count": 13,
   "metadata": {},
   "outputs": [
    {
     "name": "stderr",
     "output_type": "stream",
     "text": [
      "c:\\Users\\sudhn\\anaconda3\\Lib\\site-packages\\sklearn\\utils\\validation.py:1300: DataConversionWarning: A column-vector y was passed when a 1d array was expected. Please change the shape of y to (n_samples, ), for example using ravel().\n",
      "  y = column_or_1d(y, warn=True)\n",
      "c:\\Users\\sudhn\\anaconda3\\Lib\\site-packages\\sklearn\\linear_model\\_logistic.py:469: ConvergenceWarning: lbfgs failed to converge (status=1):\n",
      "STOP: TOTAL NO. of ITERATIONS REACHED LIMIT.\n",
      "\n",
      "Increase the number of iterations (max_iter) or scale the data as shown in:\n",
      "    https://scikit-learn.org/stable/modules/preprocessing.html\n",
      "Please also refer to the documentation for alternative solver options:\n",
      "    https://scikit-learn.org/stable/modules/linear_model.html#logistic-regression\n",
      "  n_iter_i = _check_optimize_result(\n"
     ]
    },
    {
     "name": "stdout",
     "output_type": "stream",
     "text": [
      "[[51960 24720]\n",
      " [28716 47668]]\n",
      "              precision    recall  f1-score   support\n",
      "\n",
      "           0       0.64      0.68      0.66     76680\n",
      "           1       0.66      0.62      0.64     76384\n",
      "\n",
      "    accuracy                           0.65    153064\n",
      "   macro avg       0.65      0.65      0.65    153064\n",
      "weighted avg       0.65      0.65      0.65    153064\n",
      "\n"
     ]
    }
   ],
   "source": [
    "from sklearn.linear_model import LogisticRegression\n",
    "\n",
    "lm = LogisticRegression()\n",
    "\n",
    "lm.fit(x_train, y_train)\n",
    "predictions = lm.predict(x_test)\n",
    "\n",
    "print(confusion_matrix(y_test, predictions))\n",
    "print(classification_report(y_test, predictions))"
   ]
  },
  {
   "cell_type": "markdown",
   "metadata": {},
   "source": [
    "___\n",
    "#### CatBoostClassifier"
   ]
  },
  {
   "cell_type": "code",
   "execution_count": 14,
   "metadata": {},
   "outputs": [
    {
     "data": {
      "application/vnd.jupyter.widget-view+json": {
       "model_id": "24bad53e2a7a41708634bb898376f865",
       "version_major": 2,
       "version_minor": 0
      },
      "text/plain": [
       "MetricVisualizer(layout=Layout(align_self='stretch', height='500px'))"
      ]
     },
     "metadata": {},
     "output_type": "display_data"
    },
    {
     "name": "stdout",
     "output_type": "stream",
     "text": [
      "0:\tlearn: 0.6530680\ttest: 0.6526299\tbest: 0.6526299 (0)\ttotal: 195ms\tremaining: 9.53s\n",
      "1:\tlearn: 0.6379920\ttest: 0.6373137\tbest: 0.6373137 (1)\ttotal: 238ms\tremaining: 5.71s\n",
      "2:\tlearn: 0.6318463\ttest: 0.6310089\tbest: 0.6310089 (2)\ttotal: 298ms\tremaining: 4.67s\n",
      "3:\tlearn: 0.6289835\ttest: 0.6281253\tbest: 0.6281253 (3)\ttotal: 341ms\tremaining: 3.92s\n",
      "4:\tlearn: 0.6275618\ttest: 0.6266653\tbest: 0.6266653 (4)\ttotal: 386ms\tremaining: 3.48s\n",
      "5:\tlearn: 0.6258796\ttest: 0.6249101\tbest: 0.6249101 (5)\ttotal: 437ms\tremaining: 3.21s\n",
      "6:\tlearn: 0.6252702\ttest: 0.6243499\tbest: 0.6243499 (6)\ttotal: 488ms\tremaining: 3s\n",
      "7:\tlearn: 0.6244697\ttest: 0.6235858\tbest: 0.6235858 (7)\ttotal: 537ms\tremaining: 2.82s\n",
      "8:\tlearn: 0.6239127\ttest: 0.6230521\tbest: 0.6230521 (8)\ttotal: 580ms\tremaining: 2.64s\n",
      "9:\tlearn: 0.6236156\ttest: 0.6227711\tbest: 0.6227711 (9)\ttotal: 623ms\tremaining: 2.49s\n",
      "10:\tlearn: 0.6231622\ttest: 0.6223608\tbest: 0.6223608 (10)\ttotal: 675ms\tremaining: 2.39s\n",
      "11:\tlearn: 0.6229316\ttest: 0.6221581\tbest: 0.6221581 (11)\ttotal: 748ms\tremaining: 2.37s\n",
      "12:\tlearn: 0.6226692\ttest: 0.6219302\tbest: 0.6219302 (12)\ttotal: 797ms\tremaining: 2.27s\n",
      "13:\tlearn: 0.6224469\ttest: 0.6217554\tbest: 0.6217554 (13)\ttotal: 846ms\tremaining: 2.17s\n",
      "14:\tlearn: 0.6222687\ttest: 0.6216174\tbest: 0.6216174 (14)\ttotal: 891ms\tremaining: 2.08s\n",
      "15:\tlearn: 0.6220900\ttest: 0.6215599\tbest: 0.6215599 (15)\ttotal: 950ms\tremaining: 2.02s\n",
      "16:\tlearn: 0.6219326\ttest: 0.6214747\tbest: 0.6214747 (16)\ttotal: 1s\tremaining: 1.94s\n",
      "17:\tlearn: 0.6216378\ttest: 0.6212558\tbest: 0.6212558 (17)\ttotal: 1.05s\tremaining: 1.86s\n",
      "18:\tlearn: 0.6214633\ttest: 0.6211718\tbest: 0.6211718 (18)\ttotal: 1.09s\tremaining: 1.78s\n",
      "19:\tlearn: 0.6212328\ttest: 0.6209992\tbest: 0.6209992 (19)\ttotal: 1.15s\tremaining: 1.72s\n",
      "20:\tlearn: 0.6209836\ttest: 0.6207986\tbest: 0.6207986 (20)\ttotal: 1.2s\tremaining: 1.65s\n",
      "21:\tlearn: 0.6208541\ttest: 0.6207324\tbest: 0.6207324 (21)\ttotal: 1.24s\tremaining: 1.58s\n",
      "22:\tlearn: 0.6205862\ttest: 0.6204923\tbest: 0.6204923 (22)\ttotal: 1.29s\tremaining: 1.51s\n",
      "23:\tlearn: 0.6202737\ttest: 0.6202379\tbest: 0.6202379 (23)\ttotal: 1.33s\tremaining: 1.44s\n",
      "24:\tlearn: 0.6198128\ttest: 0.6198017\tbest: 0.6198017 (24)\ttotal: 1.38s\tremaining: 1.38s\n",
      "25:\tlearn: 0.6195663\ttest: 0.6195328\tbest: 0.6195328 (25)\ttotal: 1.43s\tremaining: 1.32s\n",
      "26:\tlearn: 0.6194242\ttest: 0.6194419\tbest: 0.6194419 (26)\ttotal: 1.47s\tremaining: 1.25s\n",
      "27:\tlearn: 0.6192790\ttest: 0.6193314\tbest: 0.6193314 (27)\ttotal: 1.51s\tremaining: 1.19s\n",
      "28:\tlearn: 0.6190363\ttest: 0.6192109\tbest: 0.6192109 (28)\ttotal: 1.55s\tremaining: 1.12s\n",
      "29:\tlearn: 0.6189330\ttest: 0.6191618\tbest: 0.6191618 (29)\ttotal: 1.59s\tremaining: 1.06s\n",
      "30:\tlearn: 0.6188047\ttest: 0.6191441\tbest: 0.6191441 (30)\ttotal: 1.64s\tremaining: 1s\n",
      "31:\tlearn: 0.6186713\ttest: 0.6190794\tbest: 0.6190794 (31)\ttotal: 1.68s\tremaining: 947ms\n",
      "32:\tlearn: 0.6185390\ttest: 0.6189905\tbest: 0.6189905 (32)\ttotal: 1.72s\tremaining: 888ms\n",
      "33:\tlearn: 0.6184351\ttest: 0.6189393\tbest: 0.6189393 (33)\ttotal: 1.76s\tremaining: 831ms\n",
      "34:\tlearn: 0.6183353\ttest: 0.6188944\tbest: 0.6188944 (34)\ttotal: 1.82s\tremaining: 782ms\n",
      "35:\tlearn: 0.6181743\ttest: 0.6188598\tbest: 0.6188598 (35)\ttotal: 1.86s\tremaining: 725ms\n",
      "36:\tlearn: 0.6180323\ttest: 0.6187200\tbest: 0.6187200 (36)\ttotal: 1.9s\tremaining: 669ms\n",
      "37:\tlearn: 0.6178903\ttest: 0.6186568\tbest: 0.6186568 (37)\ttotal: 1.95s\tremaining: 614ms\n",
      "38:\tlearn: 0.6177407\ttest: 0.6185784\tbest: 0.6185784 (38)\ttotal: 1.98s\tremaining: 560ms\n",
      "39:\tlearn: 0.6176241\ttest: 0.6184975\tbest: 0.6184975 (39)\ttotal: 2.02s\tremaining: 506ms\n",
      "40:\tlearn: 0.6174275\ttest: 0.6183651\tbest: 0.6183651 (40)\ttotal: 2.07s\tremaining: 455ms\n",
      "41:\tlearn: 0.6173251\ttest: 0.6182977\tbest: 0.6182977 (41)\ttotal: 2.12s\tremaining: 403ms\n",
      "42:\tlearn: 0.6171929\ttest: 0.6182099\tbest: 0.6182099 (42)\ttotal: 2.17s\tremaining: 353ms\n",
      "43:\tlearn: 0.6170692\ttest: 0.6181516\tbest: 0.6181516 (43)\ttotal: 2.22s\tremaining: 303ms\n",
      "44:\tlearn: 0.6167903\ttest: 0.6178729\tbest: 0.6178729 (44)\ttotal: 2.27s\tremaining: 252ms\n",
      "45:\tlearn: 0.6166852\ttest: 0.6178418\tbest: 0.6178418 (45)\ttotal: 2.32s\tremaining: 202ms\n",
      "46:\tlearn: 0.6166225\ttest: 0.6178152\tbest: 0.6178152 (46)\ttotal: 2.37s\tremaining: 151ms\n",
      "47:\tlearn: 0.6165707\ttest: 0.6178247\tbest: 0.6178152 (46)\ttotal: 2.4s\tremaining: 100ms\n",
      "48:\tlearn: 0.6164988\ttest: 0.6178316\tbest: 0.6178152 (46)\ttotal: 2.44s\tremaining: 49.9ms\n",
      "49:\tlearn: 0.6163904\ttest: 0.6178222\tbest: 0.6178152 (46)\ttotal: 2.49s\tremaining: 0us\n",
      "\n",
      "bestTest = 0.6178152004\n",
      "bestIteration = 46\n",
      "\n",
      "Shrink model to first 47 iterations.\n"
     ]
    },
    {
     "data": {
      "text/plain": [
       "<catboost.core.CatBoostClassifier at 0x224ae12ba40>"
      ]
     },
     "execution_count": 14,
     "metadata": {},
     "output_type": "execute_result"
    }
   ],
   "source": [
    "from catboost import CatBoostClassifier\n",
    "\n",
    "model = CatBoostClassifier(loss_function='Logloss', iterations=50, learning_rate=0.4, random_seed=42)\n",
    "\n",
    "model.fit(x_train, y_train, eval_set=(x_test, y_test), plot=True)"
   ]
  },
  {
   "cell_type": "code",
   "execution_count": 15,
   "metadata": {},
   "outputs": [],
   "source": [
    "prob = model.predict_proba(x_test)"
   ]
  },
  {
   "cell_type": "code",
   "execution_count": 16,
   "metadata": {},
   "outputs": [
    {
     "data": {
      "text/plain": [
       "<seaborn.axisgrid.FacetGrid at 0x224b0498110>"
      ]
     },
     "execution_count": 16,
     "metadata": {},
     "output_type": "execute_result"
    },
    {
     "data": {
      "image/png": "[encoded data removed]",
      "text/plain": [
       "<Figure size 500x500 with 1 Axes>"
      ]
     },
     "metadata": {},
     "output_type": "display_data"
    }
   ],
   "source": [
    "sns.displot(prob[:, 1])"
   ]
  },
  {
   "cell_type": "code",
   "execution_count": 17,
   "metadata": {},
   "outputs": [
    {
     "name": "stdout",
     "output_type": "stream",
     "text": [
      "[[52023 24657]\n",
      " [27857 48527]]\n",
      "              precision    recall  f1-score   support\n",
      "\n",
      "           0       0.65      0.68      0.66     76680\n",
      "           1       0.66      0.64      0.65     76384\n",
      "\n",
      "    accuracy                           0.66    153064\n",
      "   macro avg       0.66      0.66      0.66    153064\n",
      "weighted avg       0.66      0.66      0.66    153064\n",
      "\n"
     ]
    }
   ],
   "source": [
    "class_pred = np.where(prob[:, 1] > 0.5, 1, 0)\n",
    "print(confusion_matrix(y_test, class_pred))\n",
    "print(classification_report(y_test, class_pred))"
   ]
  },
  {
   "cell_type": "markdown",
   "metadata": {},
   "source": [
    "Since we have adjusted our unbalanced dataset, metrics we are concerned with are precision and f1-score.\n",
    "\n",
    "By comparing all three models we can see that <b>CatBoostClassifier performs slightly better</b> in terms of both precision and f1-score\n",
    "___"
   ]
  }
 ],
 "metadata": {
  "kernelspec": {
   "display_name": "base",
   "language": "python",
   "name": "python3"
  },
  "language_info": {
   "codemirror_mode": {
    "name": "ipython",
    "version": 3
   },
   "file_extension": ".py",
   "mimetype": "text/x-python",
   "name": "python",
   "nbconvert_exporter": "python",
   "pygments_lexer": "ipython3",
   "version": "3.12.4"
  }
 },
 "nbformat": 4,
 "nbformat_minor": 2
}
